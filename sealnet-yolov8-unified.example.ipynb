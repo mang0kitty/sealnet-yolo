{
  "cells": [
    {
      "attachments": {},
      "cell_type": "markdown",
      "metadata": {
        "id": "VP1QRsAJUZbD"
      },
      "source": [
        "# YOLOv8 Seal Face Detector"
      ]
    },
    {
      "attachments": {},
      "cell_type": "markdown",
      "metadata": {
        "id": "PIT0e1bwUZbF"
      },
      "source": [
        "## Install Dependencies"
      ]
    },
    {
      "cell_type": "code",
      "execution_count": null,
      "metadata": {
        "id": "gGjst4tm40Re"
      },
      "outputs": [],
      "source": [
        "%%capture\n",
        "!pip install -U wandb roboflow ultralytics torch torchvision torchaudio --extra-index-url https://download.pytorch.org/whl/cu117 --user\n"
      ]
    },
    {
      "cell_type": "code",
      "execution_count": null,
      "metadata": {},
      "outputs": [],
      "source": [
        "# Check whether GPU is available\n",
        "import torch\n",
        "torch.cuda.is_available()"
      ]
    },
    {
      "attachments": {},
      "cell_type": "markdown",
      "metadata": {
        "id": "-N0UoupmUZbG"
      },
      "source": [
        "## Initialize Weights and Biases"
      ]
    },
    {
      "cell_type": "code",
      "execution_count": null,
      "metadata": {
        "colab": {
          "base_uri": "https://localhost:8080/"
        },
        "id": "Tpf7JgBb6e2A",
        "outputId": "95258938-fa24-4084-e1f5-58ea8b766b53",
        "scrolled": false
      },
      "outputs": [],
      "source": [
        "!wandb login # login to wandb"
      ]
    },
    {
      "cell_type": "code",
      "execution_count": null,
      "metadata": {
        "gather": {
          "logged": 1674862466608
        },
        "id": "-_enR95SUZbH"
      },
      "outputs": [],
      "source": [
        "import os\n",
        "import wandb\n",
        "\n",
        "os.environ[\"WANDB_NOTEBOOK_NAME\"] = \"sealnet-yolov8-unified.ipynb\"\n",
        "    "
      ]
    },
    {
      "cell_type": "markdown",
      "metadata": {
        "id": "1ctw8yON8JwW"
      },
      "source": [
        "## Import Roboflow data \n",
        "You can find the Roboflow data [here](https://app.roboflow.com/fruitpunch-ai-private-workspace/seal-face-detection/1#)."
      ]
    },
    {
      "cell_type": "code",
      "execution_count": null,
      "metadata": {
        "gather": {
          "logged": 1674858896265
        },
        "id": "SpzOeihN7_u-"
      },
      "outputs": [],
      "source": [
        "from roboflow import Roboflow\n",
        "\n",
        "ROBOFLOW_WORKSPACE = \"fruitpunch-ai-private-workspace\"\n",
        "ROBOFLOW_PROJECT = \"colgate-harbour-seal-dataset\"\n",
        "ROBOFLOW_VERSION = 8\n",
        "\n",
        "with open(file=\"./roboflow.apikey\", mode=\"r\") as f:\n",
        "  ROBOFLOW_API_KEY = f.readline().strip()\n",
        "\n",
        "rf = Roboflow(api_key=ROBOFLOW_API_KEY)\n",
        "project = rf.workspace(ROBOFLOW_WORKSPACE).project(ROBOFLOW_PROJECT)\n",
        "dataset = project.version(ROBOFLOW_VERSION).download(\"yolov8\", location=\"datasets/unified-seal-facial-detection-colgate-fur-seals-3\", overwrite=False)"
      ]
    },
    {
      "cell_type": "code",
      "execution_count": null,
      "metadata": {},
      "outputs": [],
      "source": [
        "dataset.location\n"
      ]
    },
    {
      "cell_type": "code",
      "execution_count": null,
      "metadata": {
        "id": "br3D47T1_ewc"
      },
      "outputs": [],
      "source": [
        "with open(f\"{dataset.location}/data.yaml\", 'r') as f:\n",
        "    print(f.read())"
      ]
    },
    {
      "attachments": {},
      "cell_type": "markdown",
      "metadata": {
        "id": "Nx4J9R0BUZbM"
      },
      "source": [
        "## Train the Yolov8 Model"
      ]
    },
    {
      "attachments": {},
      "cell_type": "markdown",
      "metadata": {},
      "source": [
        "### Create and register callbacks to send model evaluation metrics to Weights & Biases "
      ]
    },
    {
      "cell_type": "code",
      "execution_count": null,
      "metadata": {},
      "outputs": [],
      "source": [
        "from ultralytics import YOLO\n",
        "from ultralytics.yolo.utils.torch_utils import get_flops, get_num_params\n",
        "\n",
        "\n",
        "def on_pretrain_routine_start(trainer):\n",
        "    run = wandb.init(\n",
        "        name=trainer.args.name,\n",
        "        project=trainer.args.project or \"YOLOv8\",\n",
        "        tags=[\"YOLOv8\"],\n",
        "        config=vars(trainer.args),\n",
        "        resume=\"allow\",\n",
        "    )\n",
        "\n",
        "    assert wandb.run is not None\n",
        "    wandb.run.log_code(include_fn=lambda path: path.endswith(\".ipynb\"))\n",
        "\n",
        "def on_train_epoch_start(trainer):\n",
        "    wandb.log({\n",
        "        \"epoch\": trainer.epoch + 1,\n",
        "    }, step=trainer.epoch + 1)\n",
        "\n",
        "def on_train_epoch_end(trainer):\n",
        "    wandb.log({\n",
        "        **trainer.metrics,\n",
        "        **trainer.label_loss_items(trainer.tloss, prefix=\"train\"),\n",
        "        **({\n",
        "            \"train_batch_images\": [\n",
        "                wandb.Image(str(image_path), caption=image_path.stem)\n",
        "                for image_path in trainer.save_dir.glob(\"train_batch*.jpg\")\n",
        "            ]\n",
        "        } if trainer.epoch == 1 else {}),\n",
        "    }, step=trainer.epoch + 1)\n",
        "\n",
        "\n",
        "def on_fit_epoch_end(trainer):\n",
        "    wandb.log({\n",
        "        **trainer.metrics,\n",
        "        \"model/parameters\": get_num_params(trainer.model),\n",
        "        \"model/GFLOPs\": round(get_flops(trainer.model), 3),\n",
        "        \"model/speed(ms)\": round(trainer.validator.speed[1], 3),\n",
        "    }, step=trainer.epoch + 1)\n",
        "\n",
        "def on_train_end(trainer):\n",
        "    \n",
        "    wandb.log(\n",
        "        {\n",
        "            \"results\": [\n",
        "                wandb.Image(str(image_path), caption=image_path.stem)\n",
        "                for image_path in trainer.save_dir.glob(\"*.png\")\n",
        "            ]\n",
        "        },\n",
        "        step=trainer.epoch + 1\n",
        "    )\n",
        "\n",
        "\n",
        "def teardown(trainer):\n",
        "    wandb.finish()\n",
        "\n",
        "\n",
        "callbacks = (\n",
        "    {\n",
        "        \"on_pretrain_routine_start\": on_pretrain_routine_start,\n",
        "        \"on_train_epoch_start\": on_train_epoch_start,\n",
        "        \"on_train_epoch_end\": on_train_epoch_end,\n",
        "        \"on_fit_epoch_end\": on_fit_epoch_end,\n",
        "        \"on_train_end\": on_train_end,\n",
        "        \"teardown\": teardown,\n",
        "    }\n",
        "    if wandb\n",
        "    else {}\n",
        ")\n",
        "\n",
        "for event, func in callbacks.items():\n",
        "    YOLO.add_callback(event, func)\n"
      ]
    },
    {
      "cell_type": "code",
      "execution_count": null,
      "metadata": {
        "gather": {
          "logged": 1674859707153
        },
        "id": "hbmFAAUcWIHO"
      },
      "outputs": [],
      "source": [
        "from ultralytics import YOLO\n",
        "\n",
        "# Load a model\n",
        "configs = [{\n",
        "    \"epochs\": 15,\n",
        "    \"model\": \"yolov8n\"\n",
        "}, {\n",
        "    \"epochs\": 30,\n",
        "    \"model\": \"yolov8s\"\n",
        "}, {\n",
        "    \"epochs\": 45,\n",
        "    \"model\": \"yolov8s\"\n",
        "},\n",
        "{\n",
        "    \"epochs\": 15,\n",
        "    \"model\": \"yolov8m\"\n",
        "}, {\n",
        "    \"epochs\": 30,\n",
        "    \"model\": \"yolov8m\"\n",
        "}]\n",
        "\n",
        "for config in configs:\n",
        "\n",
        "    model = YOLO(f\"{config['model']}.pt\")  # load a pretrained model (recommended for training)\n",
        "\n",
        "    # Use the model\n",
        "    results = model.train(data=f\"{dataset.location}/data.yaml\", epochs=config['epochs'], project=\"sealnet\", name=f\"aideenfay-unified-{config['model']}-{config['epochs']}epochs\")  # train the model\n",
        "\n"
      ]
    },
    {
      "attachments": {},
      "cell_type": "markdown",
      "metadata": {},
      "source": [
        "## Run the model on the test dataset"
      ]
    },
    {
      "cell_type": "code",
      "execution_count": null,
      "metadata": {},
      "outputs": [],
      "source": [
        "test_results = model.val(data=f\"{dataset.location}/data.yaml\", project=\"sealnet\", name=f\"aideenfay-unified-{config['model']}-{config['epochs']}epochs\", split=\"test\", save=True)"
      ]
    },
    {
      "cell_type": "code",
      "execution_count": null,
      "metadata": {},
      "outputs": [],
      "source": []
    }
  ],
  "metadata": {
    "colab": {
      "provenance": []
    },
    "kernel_info": {
      "name": "python3"
    },
    "kernelspec": {
      "display_name": "Python 3",
      "language": "python",
      "name": "python3"
    },
    "language_info": {
      "codemirror_mode": {
        "name": "ipython",
        "version": 3
      },
      "file_extension": ".py",
      "mimetype": "text/x-python",
      "name": "python",
      "nbconvert_exporter": "python",
      "pygments_lexer": "ipython3",
      "version": "3.10.6"
    },
    "nteract": {
      "version": "nteract-front-end@1.0.0"
    },
    "vscode": {
      "interpreter": {
        "hash": "0ea182357a689bb5ce8ca3988d139933c15cc191789cdd1e1a2fd6d237eaa3b1"
      }
    }
  },
  "nbformat": 4,
  "nbformat_minor": 1
}
